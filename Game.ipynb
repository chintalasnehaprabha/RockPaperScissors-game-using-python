{
  "nbformat": 4,
  "nbformat_minor": 0,
  "metadata": {
    "colab": {
      "name": "Game.ipynb",
      "provenance": [],
      "collapsed_sections": []
    },
    "kernelspec": {
      "name": "python3",
      "display_name": "Python 3"
    },
    "language_info": {
      "name": "python"
    }
  },
  "cells": [
    {
      "cell_type": "code",
      "metadata": {
        "id": "zGuJLeBhywW4",
        "colab": {
          "base_uri": "https://localhost:8080/"
        },
        "outputId": "1c830dd0-1c97-4279-b127-5de5940df2e4"
      },
      "source": [
        "import random\n",
        "a=\"y\"\n",
        "while a==\"y\":\n",
        "  print()\n",
        "  print(\"Rock,Paper,Scissors - Shoot !!\")\n",
        "  print(\"choose your weapon...\")\n",
        "  print(\"R for Rock\")\n",
        "  print(\"P for Paper\")\n",
        "  print(\"S for Scissors\")\n",
        "  userchoice=input(\"Enter your choice : \").lower()\n",
        "  while userchoice not in \"rps\":\n",
        "    print(\"\\nplease choose only from below options..\")\n",
        "    print(\"R for Rock\")\n",
        "    print(\"P for Paper\")\n",
        "    print(\"S for Scissors\")\n",
        "    userchoice=input(\"Enter your choice : \").lower()\n",
        "  d={'r':'Rock','p':'Paper','s':'Scissors'}\n",
        "  print(\"\\nyou have chosen \"+d[userchoice])\n",
        "  choices=['r','p','s']\n",
        "  opponentchoice=random.choice(choices)\n",
        "  print(\"I have chosen \"+d[opponentchoice])\n",
        "  print()\n",
        "  if opponentchoice==userchoice:\n",
        "    print(\"It's a Tie !!\")\n",
        "  elif opponentchoice=='r' and userchoice=='p':\n",
        "    print(\"Paper beats rock, You won !\")\n",
        "  elif opponentchoice=='r' and userchoice=='s':\n",
        "    print(\"Rock beats scissors, I won !\")\n",
        "  elif opponentchoice=='p' and userchoice=='r':\n",
        "    print(\"Paper beats rock, I won\")\n",
        "  elif opponentchoice=='p' and userchoice=='s':\n",
        "    print(\"Scissors beats paper, You won\")\n",
        "  elif opponentchoice=='s' and userchoice=='r':\n",
        "    print(\"Rock beats scissors, You won\")\n",
        "  elif opponentchoice=='s' and userchoice=='p':\n",
        "    print(\"Scissors beats paper, I won\")\n",
        "  a=input(\"\\nDo you want to continue(Y/N):\")\n",
        "  while a.lower() not in [\"y\",\"n\"]:\n",
        "    print(\"\\nPlease select from below options only..\")\n",
        "    a=input(\"Do you want to continue(Y/N):\")\n",
        "  if a.lower()==\"n\":\n",
        "    print(\"Game ended...\")"
      ],
      "execution_count": 1,
      "outputs": [
        {
          "output_type": "stream",
          "text": [
            "\n",
            "Rock,Paper,Scissors - Shoot !!\n",
            "choose your weapon...\n",
            "R for Rock\n",
            "P for Paper\n",
            "S for Scissors\n",
            "Enter your choice : r\n",
            "\n",
            "you have chosen Rock\n",
            "I have chosen Rock\n",
            "\n",
            "It's a Tie !!\n",
            "\n",
            "Do you want to continue(Y/N):y\n",
            "\n",
            "Rock,Paper,Scissors - Shoot !!\n",
            "choose your weapon...\n",
            "R for Rock\n",
            "P for Paper\n",
            "S for Scissors\n",
            "Enter your choice : p\n",
            "\n",
            "you have chosen Paper\n",
            "I have chosen Rock\n",
            "\n",
            "Paper beats rock, You won !\n",
            "\n",
            "Do you want to continue(Y/N):n\n",
            "Game ended...\n"
          ],
          "name": "stdout"
        }
      ]
    },
    {
      "cell_type": "markdown",
      "metadata": {
        "id": "ozlkxi1Vn1Lu"
      },
      "source": [
        "Test cases\n",
        "\n",
        "\n",
        "\n",
        "\n",
        "Rock,Paper,Scissors - Shoot !!\n",
        "choose your weapon...\n",
        "R for Rock\n",
        "P for Paper\n",
        "S for Scissors\n",
        "Enter your choice : r\n",
        "\n",
        "you have chosen Rock\n",
        "I have chosen Rock\n",
        "\n",
        "It's a Tie !!\n",
        "\n",
        "Do you want to continue(Y/N):y\n",
        "\n",
        "Rock,Paper,Scissors - Shoot !!\n",
        "choose your weapon...\n",
        "R for Rock\n",
        "P for Paper\n",
        "S for Scissors\n",
        "Enter your choice : p\n",
        "\n",
        "you have chosen Paper\n",
        "I have chosen Rock\n",
        "\n",
        "Paper beats rock, You won !\n",
        "\n",
        "Do you want to continue(Y/N):n\n",
        "Game ended...\n"
      ]
    },
    {
      "cell_type": "markdown",
      "metadata": {
        "id": "tUQcDa5Innf3"
      },
      "source": [
        ""
      ]
    },
    {
      "cell_type": "markdown",
      "metadata": {
        "id": "WtXwdr2fmx_D"
      },
      "source": [
        "This mini game is designed who don't have anyone to play , But here we have a friend named computer .\n",
        "The program requires some simple functions ,let me give some overview .\n",
        "\n",
        "\n",
        "> Random Function: It generates Rock,Paper and Scissors.\n",
        "\n",
        "> Valid Function: To check the validity of move.\n",
        "\n",
        "> Result Function: To declare the Winner of the round.\n",
        "\n",
        "> ScoreKeeper: To keep track of the score.\n",
        "\n",
        "The program requires the user to make the first move before it makes one the move. Once the move is validated the input is evaluated, the input entered could be a string or an alphabet. After evaluating the input string a winner is decided by the result function and the score of the round is updated by the scorekeeper function. \n"
      ]
    }
  ]
}